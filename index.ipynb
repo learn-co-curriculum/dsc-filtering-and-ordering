{
 "cells": [
  {
   "cell_type": "markdown",
   "metadata": {},
   "source": [
    "# Filtering and Ordering"
   ]
  },
  {
   "cell_type": "markdown",
   "metadata": {},
   "source": [
    "## Introduction\n",
    "\n",
    "One of the most powerful aspects of SQL is the ability to include only relevant data in your query results. In this lesson, you'll learn some additional techniques for limiting the results of your SQL queries using the `WHERE` clause as well as the `ORDER BY` clause combined with the `LIMIT` clause."
   ]
  },
  {
   "cell_type": "markdown",
   "metadata": {},
   "source": [
    "## Objectives\n",
    "You will be able to:\n",
    "- Write SQL queries to filter and order results\n",
    "- Order the results of your queries by using `ORDER BY` (`ASC` & `DESC`)\n",
    "- Limit the number of records returned by a query using `LIMIT`\n",
    "- Filter results using `BETWEEN` and `IS NULL`"
   ]
  },
  {
   "cell_type": "markdown",
   "metadata": {},
   "source": [
    "## The Data\n",
    "\n",
    "\n",
    "\n",
    "For this lesson we'll be using a database called `pets_database.db` containing a table called `cats`.\n",
    "\n",
    "The `cats` table is populated with the following data:"
   ]
  },
  {
   "cell_type": "markdown",
   "metadata": {},
   "source": [
    "|id  |name     |age    |breed              |owner_id|\n",
    "|----|---------|-------|-------------------|-----------|\n",
    "|1   |Maru     |3.0    |Scottish Fold      |1.0        |\n",
    "|2   |Hana     |1.0    |Tabby              |1.0        |\n",
    "|3   |Lil' Bub |5.0    |American Shorthair |NaN        |\n",
    "|4   |Moe      |10.0   |Tabby              |NaN        |\n",
    "|5   |Patches  |2.0    |Calico             |NaN        |\n",
    "|6   |None     |NaN    |Tabby              |NaN        |"
   ]
  },
  {
   "cell_type": "markdown",
   "metadata": {},
   "source": [
    "### Creating our Database"
   ]
  },
  {
   "cell_type": "markdown",
   "metadata": {},
   "source": [
    "In the cell below, we connect to the database and select all of the records:\n",
    "\n",
    "> In the cell below, type the code to import the necessary package, then create a connection to the database, and finally create a cursor object.\n",
    "\n",
    "<details>\n",
    "    <summary style=\"cursor: pointer; display: inline\">\n",
    "        <b><u>Click to Reveal Code</u></b>\n",
    "    </summary>\n",
    "    <pre><code language=\"python\">python\n",
    "import pandas as pd\n",
    "import sqlite3 \n",
    "conn = sqlite3.connect('pets_database.db')\n",
    "cur = conn.cursor()\n",
    "    </code></pre>\n",
    "</details>"
   ]
  },
  {
   "cell_type": "code",
   "execution_count": 1,
   "metadata": {},
   "outputs": [],
   "source": [
    "# replace this comment with the code to import sqlite3\n",
    "# replace this comment with the code to create the database connection\n",
    "# replace this comment with the code to create the cursor object"
   ]
  },
  {
   "cell_type": "markdown",
   "metadata": {},
   "source": [
    "**Let's check out our `cats` table with a SQL query:**\n",
    "\n",
    "**Note:** the method `.fetchall()` returns a `list` where each record is represented as a `tuple`, which you can think of as a `list`-like object. If you would like to retrieve an element from a `tuple`, you simply access it by index -- similar to how you access the elements of a normal Python list. (i.e. `example_tuple[0]` - returns element at index `0`)\n",
    "\n",
    "> In the cell below, type your query to select all of the records in the `cats` table.\n",
    "\n",
    "<details>\n",
    "    <summary style=\"cursor: pointer; display: inline\">\n",
    "        <b><u>Click to Reveal Code</u></b>\n",
    "    </summary>\n",
    "    <pre><code language=\"python\">query = '''\n",
    "SELECT *\n",
    "  FROM cats;\n",
    "'''\n",
    "    </code></pre>\n",
    "</details>\n",
    "\n",
    "\n"
   ]
  },
  {
   "cell_type": "code",
   "execution_count": null,
   "metadata": {},
   "outputs": [],
   "source": [
    "# replace None with the query text (remember to use triple quotes for multi-line strings)\n",
    "query = None \n",
    "\n",
    "cur.execute(query).fetchall()"
   ]
  },
  {
   "cell_type": "markdown",
   "metadata": {},
   "source": [
    "---\n",
    "#### Expected Output\n",
    "<details>\n",
    "    <summary style=\"cursor: pointer; display: inline\">\n",
    "        <b><u>Click to Expand Complete Output</u></b>\n",
    "    </summary>\n",
    "    <pre><code language=\"python\">[(1, 'Maru', 3, 'Scottish Fold', 1),\n",
    " (2, 'Hana', 1, 'Tabby', 1),\n",
    " (3, \"Lil' Bub\", 5, 'American Shorthair', None),\n",
    " (4, 'Moe', 10, 'Tabby', None),\n",
    " (5, 'Patches', 2, 'Calico', None),\n",
    " (6, None, None, 'Tabby', None)]\n",
    "    </code></pre>\n",
    "</details>\n",
    "\n",
    "---"
   ]
  },
  {
   "cell_type": "markdown",
   "metadata": {},
   "source": [
    "### `ORDER BY`\n",
    "\n",
    "The first query modifier you'll explore is `ORDER BY`. This modifier allows us to order the table rows returned by a certain `SELECT` statement. Here's a boilerplate `SELECT` statement that uses `ORDER BY`:\n",
    "\n",
    "```sql\n",
    "SELECT column_name(s) \n",
    "  FROM table_name \n",
    " ORDER BY column_name ASC|DESC;\n",
    "```\n",
    "\n",
    "**Let's select our cats and order them by age:**\n",
    "\n",
    "> In the cell below, type the code to select all records from `cats` and order them by `age`.\n",
    "\n",
    "<details>\n",
    "    <summary style=\"cursor: pointer; display: inline\">\n",
    "        <b><u>Click to Reveal Code</u></b>\n",
    "    </summary>\n",
    "    <pre><code language=\"python\">query = '''\n",
    "SELECT *\n",
    "  FROM cats \n",
    " ORDER BY age;\n",
    "'''\n",
    "    </code></pre>\n",
    "</details>"
   ]
  },
  {
   "cell_type": "code",
   "execution_count": 3,
   "metadata": {},
   "outputs": [],
   "source": [
    "# replace None with the query text (remember to use triple quotes for multi-line strings)\n",
    "query = None \n",
    "\n",
    "cur.execute(query).fetchall()"
   ]
  },
  {
   "cell_type": "markdown",
   "metadata": {},
   "source": [
    "---\n",
    "#### Expected Output\n",
    "<details>\n",
    "    <summary style=\"cursor: pointer; display: inline\">\n",
    "        <b><u>Click to Expand Complete Output</u></b>\n",
    "    </summary>\n",
    "    <pre><code language=\"python\">[(6, None, None, 'Tabby', None),\n",
    " (2, 'Hana', 1, 'Tabby', 1),\n",
    " (5, 'Patches', 2, 'Calico', None),\n",
    " (1, 'Maru', 3, 'Scottish Fold', 1),\n",
    " (3, \"Lil' Bub\", 5, 'American Shorthair', None),\n",
    " (4, 'Moe', 10, 'Tabby', None)] \n",
    "    </code></pre>\n",
    "</details>\n",
    "\n",
    "---"
   ]
  },
  {
   "cell_type": "markdown",
   "metadata": {},
   "source": [
    "When using `ORDER BY`, the default is to order in ascending order. If you want to specify though, you can use `ASC` for \"ascending\" or `DESC` for \"descending.\" **Let's try to select all of our cats and sort them by age in descending order.**\n",
    "\n",
    "> In the cell below, type your query to select all records from `cats` and sort them in descending order:\n",
    "\n",
    "<details>\n",
    "    <summary style=\"cursor: pointer; display: inline\">\n",
    "        <b><u>Click to Reveal Code</u></b>\n",
    "    </summary>\n",
    "    <pre><code language=\"python\">query = '''\n",
    "SELECT *\n",
    "  FROM cats \n",
    " ORDER BY age DESC;\n",
    "'''\n",
    "    </code></pre>\n",
    "</details>"
   ]
  },
  {
   "cell_type": "code",
   "execution_count": null,
   "metadata": {},
   "outputs": [],
   "source": [
    "# replace None with the query text (remember to use triple quotes for multi-line strings)\n",
    "query = None \n",
    "\n",
    "cur.execute(query).fetchall()"
   ]
  },
  {
   "cell_type": "markdown",
   "metadata": {},
   "source": [
    "---\n",
    "#### Expected Output\n",
    "<details>\n",
    "    <summary style=\"cursor: pointer; display: inline\">\n",
    "        <b><u>Click to Expand Complete Output</u></b>\n",
    "    </summary>\n",
    "    <pre><code language=\"python\">[(4, 'Moe', 10, 'Tabby', None),\n",
    " (3, \"Lil' Bub\", 5, 'American Shorthair', None),\n",
    " (1, 'Maru', 3, 'Scottish Fold', 1),\n",
    " (5, 'Patches', 2, 'Calico', None),\n",
    " (2, 'Hana', 1, 'Tabby', 1),\n",
    " (6, None, None, 'Tabby', None)]\n",
    "    </code></pre>\n",
    "</details>\n",
    "\n",
    "---"
   ]
  },
  {
   "cell_type": "markdown",
   "metadata": {},
   "source": [
    "### `LIMIT`\n",
    "\n",
    "What if you want the oldest cat? If you want to select extremes from a database table––for example, the employee with the highest paycheck or the patient with the most recent appointment––we can use `ORDER BY` in conjunction with `LIMIT`.\n",
    "\n",
    "`LIMIT` is used to determine the number of records you want to return from a dataset. For example:\n",
    "\n",
    "```sql\n",
    "SELECT *\n",
    "  FROM cats \n",
    " ORDER BY age DESC LIMIT 1;\n",
    "```\n",
    "\n",
    "**Note:** When you would only like the first result (or one result as is the case in the example above) you can use the sqlite3 method `.fetchone()` which, instead of returning a list of results, returns the first result (or the record at index 0). you can use this in place of or in conjunction with `LIMIT 1` in order to get back a single element."
   ]
  },
  {
   "cell_type": "markdown",
   "metadata": {},
   "source": [
    "> In the cell below, type your query to select all records from `cats`, sort them in descending order, and return only the first record using `LIMIT`:\n",
    "\n",
    "<details>\n",
    "    <summary style=\"cursor: pointer; display: inline\">\n",
    "        <b><u>Click to Reveal Code</u></b>\n",
    "    </summary>\n",
    "    <pre><code language=\"python\">query = '''\n",
    "SELECT *\n",
    "  FROM cats\n",
    " ORDER BY age DESC LIMIT 1;\n",
    "'''\n",
    "cur.execute(query).fetchall()\n",
    "    </code></pre>\n",
    "</details>"
   ]
  },
  {
   "cell_type": "code",
   "execution_count": null,
   "metadata": {},
   "outputs": [],
   "source": [
    "# replace None with the query text (remember to use triple quotes for multi-line strings)\n",
    "query = None \n",
    "\n",
    "# replace this comment with the code to execute the query using .fetchall()"
   ]
  },
  {
   "cell_type": "markdown",
   "metadata": {},
   "source": [
    "---\n",
    "#### Expected Output\n",
    "<pre><code>[(4, 'Moe', 10, 'Tabby', None)]\n",
    "</code></pre>\n",
    "\n",
    "---"
   ]
  },
  {
   "cell_type": "markdown",
   "metadata": {},
   "source": [
    "Now take a look at the result using `.fetchone()` instead of `LIMIT`:\n",
    "\n",
    "> In the cell below, type your query to select all records from `cats`, sort them in descending order, and return only the first record using `fetchone()`:\n",
    "\n",
    "<details>\n",
    "    <summary style=\"cursor: pointer; display: inline\">\n",
    "        <b><u>Click to Reveal Code</u></b>\n",
    "    </summary>\n",
    "    <pre><code language=\"python\">query = '''\n",
    "SELECT *\n",
    "  FROM cats\n",
    " ORDER BY age DESC;\n",
    "'''\n",
    "cur.execute(query).fetchone()\n",
    "    </code></pre>\n",
    "</details>"
   ]
  },
  {
   "cell_type": "code",
   "execution_count": 5,
   "metadata": {},
   "outputs": [],
   "source": [
    "# replace None with the query text (remember to use triple quotes for multi-line strings)\n",
    "query = None \n",
    "\n",
    "# replace this comment with the code to execute the query using .fetchone()"
   ]
  },
  {
   "cell_type": "markdown",
   "metadata": {},
   "source": [
    "This part of the statement: `SELECT * FROM cats ORDER BY age DESC` returns all of the cats in order from oldest to youngest. Using `fetchone()` returns just the first, i.e. oldest, cat on the list as in the previous example with the use of `LIMIT 1`.\n",
    "\n",
    "What if we wanted to select the `2` oldest cats?\n",
    "\n",
    "> In the cell below, type the query to select all records from `cats`, sort them in descending order and return the first 2 records using `LIMIT`, then type the code to execute the query:\n",
    "\n",
    "<details>\n",
    "    <summary style=\"cursor: pointer; display: inline\">\n",
    "        <b><u>Click to Reveal Code</u></b>\n",
    "    </summary>\n",
    "    <pre><code language=\"python\">query = '''\n",
    "SELECT *\n",
    "  FROM cats\n",
    " ORDER BY age DESC LIMIT 2;\n",
    "cur.execute(query).fetchall()\n",
    "    </code></pre>\n",
    "</details>"
   ]
  },
  {
   "cell_type": "code",
   "execution_count": 6,
   "metadata": {},
   "outputs": [],
   "source": [
    "# replace None with the query text (remember to use triple quotes for multi-line strings)\n",
    "query = None \n",
    "\n",
    "# replace this comment with the code to execute the query"
   ]
  },
  {
   "cell_type": "markdown",
   "metadata": {},
   "source": [
    "---\n",
    "#### Expected Output\n",
    "<pre><code>[(4, 'Moe', 10, 'Tabby', None), (3, \"Lil' Bub\", 5, 'American Shorthair', None)]\n",
    "</code></pre>\n",
    "\n",
    "---"
   ]
  },
  {
   "cell_type": "markdown",
   "metadata": {},
   "source": [
    "### `BETWEEN`\n",
    "\n",
    "As we've already established, being able to sort and select specific data sets is important. Continuing on with our example, let's say you urgently need to select all of the cats whose age is between 1 and 3. To create such a query, you can use `BETWEEN`. Here's a boilerplate `SELECT` statement using `BETWEEN`:\n",
    "\n",
    "```sql\n",
    "SELECT column_name(s) \n",
    "  FROM table_name \n",
    " WHERE column_name BETWEEN value1 AND value2;\n",
    "```\n",
    "\n",
    "Let's try it out on our `cats` table:\n",
    "\n",
    "> In the cell below, type your query to select `name` from `cats` with ages `BETWEEN` `1` and `3`, then type the code to execute the query:\n",
    "\n",
    "<details>\n",
    "    <summary style=\"cursor: pointer; display: inline\">\n",
    "        <b><u>Click to Reveal Code</u></b>\n",
    "    </summary>\n",
    "    <pre><code language=\"python\">query = '''\n",
    "query = '''\n",
    "SELECT name\n",
    "  FROM cats\n",
    " WHERE age BETWEEN 1 AND 3;\n",
    "'''\n",
    "cur.execute(query).findall()\n",
    "    </code></pre>\n",
    "</details>"
   ]
  },
  {
   "cell_type": "code",
   "execution_count": 7,
   "metadata": {},
   "outputs": [],
   "source": [
    "# replace this comment with the code to generate a query for use in the curson execution\n",
    "\n",
    "# replace this comment with the code to execute the query"
   ]
  },
  {
   "cell_type": "markdown",
   "metadata": {},
   "source": [
    "---\n",
    "#### Expected Output\n",
    "<pre><code>[('Maru',), ('Hana',), ('Patches',)]\n",
    "</code></pre>\n",
    "\n",
    "---"
   ]
  },
  {
   "cell_type": "markdown",
   "metadata": {},
   "source": [
    "### `IS NULL`\n",
    "\n",
    "Some cats were added to the Database that weren't given a name. We can select these records with the `IS NULL` keyword.\n",
    "\n",
    "> In the cell below, type the query to select all records from `cats` and filter to return all with a `null` value in the `name` field, then type the code to execute the query:\n",
    "\n",
    "<details>\n",
    "    <summary style=\"cursor: pointer; display: inline\">\n",
    "        <b><u>Click to Reveal Code</u></b>\n",
    "    </summary>\n",
    "    <pre><code language=\"python\">query = '''\n",
    "SELECT * \n",
    "  FROM cats \n",
    " WHERE name IS NULL;\n",
    "'''\n",
    "cur.execute(query).findall()\n",
    "    </code></pre>\n",
    "</details>\n"
   ]
  },
  {
   "cell_type": "code",
   "execution_count": null,
   "metadata": {},
   "outputs": [],
   "source": [
    "# replace this comment with the code to generate a query for use in the curson execution\n",
    "\n",
    "# replace this comment with the code to execute the query"
   ]
  },
  {
   "cell_type": "markdown",
   "metadata": {},
   "source": [
    "---\n",
    "#### Expected Output\n",
    "<pre><code>[(6, None, None, 'Tabby', None)]\n",
    "</code></pre>\n",
    "\n",
    "---"
   ]
  },
  {
   "cell_type": "markdown",
   "metadata": {},
   "source": [
    "### `COUNT`\n",
    "\n",
    "Now, let's talk about the SQL aggregate function `COUNT`.\n",
    "\n",
    "**SQL aggregate functions** are SQL statements that group multiple items together and perform some calculation to get a value of significance such as the average of a column's values, the minimum and maximum values from a column, sum values in a column, or count a number of records that meet certain conditions. You can learn more about these SQL aggregators [here](http://www.sqlclauses.com/sql+aggregate+functions) and [here](http://zetcode.com/db/sqlite/select/).\n",
    "\n",
    "For now, we'll just focus on `COUNT`, which counts the number of records that meet a certain condition. Here's a standard SQL query using `COUNT`:\n",
    "\n",
    "```sql\n",
    "SELECT COUNT(column_name) \n",
    "  FROM table_name\n",
    " WHERE column_name = [value]\n",
    "```\n",
    "Let's try it out and count the number of cats who have an `owner_id` of `1`:\n",
    "\n",
    "> In the cell below, type the query to count the number of records in `cats` with a value of `1` in `owner_id`, then type the code to execute that query:\n",
    "\n",
    "<details>\n",
    "    <summary style=\"cursor: pointer; display: inline\">\n",
    "        <b><u>Click to Reveal Code</u></b>\n",
    "    </summary>\n",
    "    <pre><code language=\"python\">query = '''\n",
    "SELECT COUNT(owner_id) \n",
    "  FROM cats \n",
    " WHERE owner_id = 1;\n",
    "'''\n",
    "cur.execute(query).fetchall()\n",
    "    </code></pre>\n",
    "</details>"
   ]
  },
  {
   "cell_type": "code",
   "execution_count": 9,
   "metadata": {},
   "outputs": [
    {
     "data": {
      "text/plain": [
       "[(2,)]"
      ]
     },
     "execution_count": 9,
     "metadata": {},
     "output_type": "execute_result"
    }
   ],
   "source": [
    "\n",
    "# replace this comment with the code to generate a query for use in the curson execution\n",
    "\n",
    "# replace this comment with the code to execute the query"
   ]
  },
  {
   "cell_type": "markdown",
   "metadata": {},
   "source": [
    "---\n",
    "#### Expected Output\n",
    "<pre><code>[(2,)]\n",
    "</code></pre>\n",
    "\n",
    "---"
   ]
  },
  {
   "cell_type": "markdown",
   "metadata": {},
   "source": [
    "### `GROUP BY`\n",
    "\n",
    "Lastly, we'll talk about the handy aggregate function `GROUP BY`. Like its name\n",
    "suggests, it groups your results by a given column.\n",
    "\n",
    "Let's take our table of cats\n",
    "\n",
    "```bash\n",
    "id          name        age         breed          owner_id  \n",
    "----------  ----------  ----------  -------------  ----------\n",
    "1           Maru        3           Scottish Fold  1         \n",
    "2           Hana        1           Tabby          1         \n",
    "3           Lil\\' Bub   5           American Shor            \n",
    "4           Moe         10          Tabby                    \n",
    "5           Patches     2           Calico                   \n",
    "6                                   Tabby                    \n",
    "```\n",
    "\n",
    "Here, you can see at a glance that there are three tabby cats and\n",
    "one of every other breed — but what if you had a larger database\n",
    "where you couldn't just tally up the number of cats *grouped by*\n",
    "breed? That's where — you guessed it! — `GROUP BY` comes in handy.\n",
    "\n",
    "> In the cell below, type the query to `COUNT` the number of each `breed` using `GROUP BY`, then type the code to execute the query:\n",
    "\n",
    "<details>\n",
    "    <summary style=\"cursor: pointer; display: inline\">\n",
    "        <b><u>Click to Reveal Code</u></b>\n",
    "    </summary>\n",
    "    <pre><code language=\"python\">query = '''\n",
    "SELECT breed, COUNT(breed)\n",
    "  FROM cats\n",
    " GROUP BY breed;\n",
    "'''\n",
    "cur.execute(query).fetchall()\n",
    "    </code></pre>\n",
    "</details>\n"
   ]
  },
  {
   "cell_type": "code",
   "execution_count": null,
   "metadata": {},
   "outputs": [],
   "source": [
    "# replace this comment with the code to generate a query for use in the curson execution\n",
    "\n",
    "# replace this comment with the code to execute the query"
   ]
  },
  {
   "cell_type": "markdown",
   "metadata": {},
   "source": [
    "---\n",
    "#### Expected Output\n",
    "<pre><code>[('American Shorthair', 1), ('Calico', 1), ('Scottish Fold', 1), ('Tabby', 3)]\n",
    "</code></pre>\n",
    "\n",
    "---\n"
   ]
  },
  {
   "cell_type": "markdown",
   "metadata": {},
   "source": [
    "`GROUP BY` is a great function for aggregating results into different\n",
    "segments — you can even use it on multiple columns! Using `GROUP BY` on multiple columns will group by the first column as the primary key, and the second column as the secondary key.\n",
    "\n",
    "> In the cell below, type the query to select `breed` and `owner_id` and return the `COUNT` of each value in `breed` ordered by `breed` as the primary key and `owner_id` as the secondary key:\n",
    "\n",
    "<details>\n",
    "    <summary style=\"cursor: pointer; display: inline\"><b><u>Click to Reveal Code</u></b>\n",
    "    </summary>\n",
    "    <pre><code language=\"python\">query = '''\n",
    "SELECT breed, owner_id, COUNT(breed) \n",
    "  FROM cats \n",
    " GROUP BY breed, owner_id;\n",
    "'''\n",
    "cur.execute(query).fetchall()\n",
    "    </code></pre>\n",
    "</details>"
   ]
  },
  {
   "cell_type": "markdown",
   "metadata": {},
   "source": []
  },
  {
   "cell_type": "code",
   "execution_count": 11,
   "metadata": {
    "scrolled": false
   },
   "outputs": [],
   "source": [
    "# execute above multiple column group by query here"
   ]
  },
  {
   "cell_type": "markdown",
   "metadata": {},
   "source": [
    "This should return:\n",
    "\n",
    "```python\n",
    "[('American Shorthair', None, 1),\n",
    " ('Calico', None, 1),\n",
    " ('Scottish Fold', 1, 1),\n",
    " ('Tabby', None, 2),\n",
    " ('Tabby', 1, 1)]\n",
    "```"
   ]
  },
  {
   "cell_type": "markdown",
   "metadata": {},
   "source": [
    "### Note on `SELECT`\n",
    "\n",
    "We are now familiar with this syntax:\n",
    "\n",
    "```sql\n",
    "SELECT name \n",
    "  FROM cats;\n",
    "```\n",
    "\n",
    "However, you may not know that this can be written like this as well:\n",
    "\n",
    "```sql\n",
    "SELECT cats.name \n",
    "  FROM cats;\n",
    "```\n",
    "\n",
    "Both return:\n",
    "\n",
    "```python\n",
    "[('Maru',), ('Hana',), (\"Lil' Bub\",), ('Moe',), ('Patches',), (None,)] \n",
    "```\n",
    "\n",
    "SQLite allows us to explicitly state the `tableName.columnName` you want to select. This is particularly useful when you want data from two different tables.\n",
    "\n",
    "Imagine you have another table called `dogs` with a column containing all of the dog names:\n",
    "\n",
    "```sql\n",
    "CREATE TABLE dogs(\n",
    "  PRIMARY KEY (id),\n",
    "  id INT,\n",
    "  \"name\" TEXT,\n",
    ");\n",
    "```\n",
    "\n",
    "```sql\n",
    "INSERT INTO dogs (\"name\", id) \n",
    "VALUES (\"Clifford\", 2.0);\n",
    "```\n",
    "\n",
    "\n",
    "If you want to get the names of all the dogs and cats, you can no longer run a query with just the column name.\n",
    "```sql\n",
    "SELECT name \n",
    "  FROM cats,dogs;\n",
    "``` \n",
    "will return:\n",
    "```\n",
    "Error: ambiguous column name: name\n",
    "```\n",
    "\n",
    "Instead, you must explicitly follow the `tableName.columnName` syntax.\n",
    "```sql\n",
    "SELECT cats.name, dogs.name \n",
    "  FROM cats, dogs;\n",
    "```\n",
    "\n",
    "You may see this in the future. Don't let it trip you up!"
   ]
  },
  {
   "cell_type": "markdown",
   "metadata": {},
   "source": [
    "## Summary"
   ]
  },
  {
   "cell_type": "markdown",
   "metadata": {},
   "source": [
    "In this lesson, you expanded your SQL knowledge by learning how to modify your data using statements like `ORDER BY`. \n",
    "Additionally, you learned how to filter and limit your results using the `BETWEEN`, `IS NULL`, and `LIMIT` statements."
   ]
  }
 ],
 "metadata": {
  "kernelspec": {
   "display_name": "Python 3",
   "language": "python",
   "name": "python3"
  },
  "language_info": {
   "codemirror_mode": {
    "name": "ipython",
    "version": 3
   },
   "file_extension": ".py",
   "mimetype": "text/x-python",
   "name": "python",
   "nbconvert_exporter": "python",
   "pygments_lexer": "ipython3",
   "version": "3.8.5"
  },
  "toc": {
   "base_numbering": 1,
   "nav_menu": {},
   "number_sections": true,
   "sideBar": true,
   "skip_h1_title": false,
   "title_cell": "Table of Contents",
   "title_sidebar": "Contents",
   "toc_cell": false,
   "toc_position": {},
   "toc_section_display": true,
   "toc_window_display": false
  }
 },
 "nbformat": 4,
 "nbformat_minor": 2
}
