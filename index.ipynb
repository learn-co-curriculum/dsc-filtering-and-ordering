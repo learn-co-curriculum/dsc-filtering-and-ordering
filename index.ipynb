{
 "cells": [
  {
   "cell_type": "markdown",
   "metadata": {},
   "source": [
    "# Filtering and Ordering"
   ]
  },
  {
   "cell_type": "markdown",
   "metadata": {},
   "source": [
    "## Introduction\n",
    "\n",
    "One of the most powerful aspects of SQL is the ability to include only relevant data in your query results. In this lesson, you'll learn some additional techniques for limiting the results of your SQL queries using the `WHERE` clause as well as the `ORDER BY` clause combined with the `LIMIT` clause."
   ]
  },
  {
   "cell_type": "markdown",
   "metadata": {},
   "source": [
    "## Objectives\n",
    "You will be able to:\n",
    "- Write SQL queries to filter and order results\n",
    "- Order the results of your queries by using `ORDER BY` (`ASC` & `DESC`)\n",
    "- Limit the number of records returned by a query using `LIMIT`\n",
    "- Filter results using `BETWEEN` and `IS NULL`"
   ]
  },
  {
   "cell_type": "markdown",
   "metadata": {},
   "source": [
    "## The Data\n",
    "\n",
    "For this lesson we'll be using a database called `pets_database.db` containing a table called `cats`.\n",
    "\n",
    "The `cats` table is populated with the following data:\n",
    "\n",
    "\n",
    "|id  |name     |age    |breed              |owner_id   |\n",
    "|----|---------|-------|-------------------|-----------|\n",
    "|1   |Maru     |3.0    |Scottish Fold      |1.0        |\n",
    "|2   |Hana     |1.0    |Tabby              |1.0        |\n",
    "|3   |Lil' Bub |5.0    |American Shorthair |NaN        |\n",
    "|4   |Moe      |10.0   |Tabby              |NaN        |\n",
    "|5   |Patches  |2.0    |Calico             |NaN        |\n",
    "|6   |None     |NaN    |Tabby              |NaN        |\n",
    "\n",
    "In the cell below, we connect to the database and select all of the records:"
   ]
  },
  {
   "cell_type": "code",
   "execution_count": 1,
   "metadata": {},
   "outputs": [
    {
     "data": {
      "text/html": [
       "<div>\n",
       "<style scoped>\n",
       "    .dataframe tbody tr th:only-of-type {\n",
       "        vertical-align: middle;\n",
       "    }\n",
       "\n",
       "    .dataframe tbody tr th {\n",
       "        vertical-align: top;\n",
       "    }\n",
       "\n",
       "    .dataframe thead th {\n",
       "        text-align: right;\n",
       "    }\n",
       "</style>\n",
       "<table border=\"1\" class=\"dataframe\">\n",
       "  <thead>\n",
       "    <tr style=\"text-align: right;\">\n",
       "      <th></th>\n",
       "      <th>id</th>\n",
       "      <th>name</th>\n",
       "      <th>age</th>\n",
       "      <th>breed</th>\n",
       "      <th>owner_id</th>\n",
       "    </tr>\n",
       "  </thead>\n",
       "  <tbody>\n",
       "    <tr>\n",
       "      <th>0</th>\n",
       "      <td>1</td>\n",
       "      <td>Maru</td>\n",
       "      <td>3.0</td>\n",
       "      <td>Scottish Fold</td>\n",
       "      <td>1.0</td>\n",
       "    </tr>\n",
       "    <tr>\n",
       "      <th>1</th>\n",
       "      <td>2</td>\n",
       "      <td>Hana</td>\n",
       "      <td>1.0</td>\n",
       "      <td>Tabby</td>\n",
       "      <td>1.0</td>\n",
       "    </tr>\n",
       "    <tr>\n",
       "      <th>2</th>\n",
       "      <td>3</td>\n",
       "      <td>Lil' Bub</td>\n",
       "      <td>5.0</td>\n",
       "      <td>American Shorthair</td>\n",
       "      <td>NaN</td>\n",
       "    </tr>\n",
       "    <tr>\n",
       "      <th>3</th>\n",
       "      <td>4</td>\n",
       "      <td>Moe</td>\n",
       "      <td>10.0</td>\n",
       "      <td>Tabby</td>\n",
       "      <td>NaN</td>\n",
       "    </tr>\n",
       "    <tr>\n",
       "      <th>4</th>\n",
       "      <td>5</td>\n",
       "      <td>Patches</td>\n",
       "      <td>2.0</td>\n",
       "      <td>Calico</td>\n",
       "      <td>NaN</td>\n",
       "    </tr>\n",
       "    <tr>\n",
       "      <th>5</th>\n",
       "      <td>6</td>\n",
       "      <td>None</td>\n",
       "      <td>NaN</td>\n",
       "      <td>Tabby</td>\n",
       "      <td>NaN</td>\n",
       "    </tr>\n",
       "  </tbody>\n",
       "</table>\n",
       "</div>"
      ],
      "text/plain": [
       "   id      name   age               breed  owner_id\n",
       "0   1      Maru   3.0       Scottish Fold       1.0\n",
       "1   2      Hana   1.0               Tabby       1.0\n",
       "2   3  Lil' Bub   5.0  American Shorthair       NaN\n",
       "3   4       Moe  10.0               Tabby       NaN\n",
       "4   5   Patches   2.0              Calico       NaN\n",
       "5   6      None   NaN               Tabby       NaN"
      ]
     },
     "execution_count": 1,
     "metadata": {},
     "output_type": "execute_result"
    }
   ],
   "source": [
    "import pandas as pd\n",
    "import sqlite3 \n",
    "\n",
    "conn = sqlite3.connect('pets_database.db')\n",
    "pd.read_sql(\"SELECT * FROM cats;\", conn)"
   ]
  },
  {
   "cell_type": "markdown",
   "metadata": {},
   "source": [
    "## Filtering Using `WHERE`\n",
    "\n",
    "We have already seen a simple example of a `WHERE` clause. For a similar example, below we select only records where the cat's name is `\"Maru\"`:"
   ]
  },
  {
   "cell_type": "code",
   "execution_count": 2,
   "metadata": {},
   "outputs": [
    {
     "data": {
      "text/html": [
       "<div>\n",
       "<style scoped>\n",
       "    .dataframe tbody tr th:only-of-type {\n",
       "        vertical-align: middle;\n",
       "    }\n",
       "\n",
       "    .dataframe tbody tr th {\n",
       "        vertical-align: top;\n",
       "    }\n",
       "\n",
       "    .dataframe thead th {\n",
       "        text-align: right;\n",
       "    }\n",
       "</style>\n",
       "<table border=\"1\" class=\"dataframe\">\n",
       "  <thead>\n",
       "    <tr style=\"text-align: right;\">\n",
       "      <th></th>\n",
       "      <th>id</th>\n",
       "      <th>name</th>\n",
       "      <th>age</th>\n",
       "      <th>breed</th>\n",
       "      <th>owner_id</th>\n",
       "    </tr>\n",
       "  </thead>\n",
       "  <tbody>\n",
       "    <tr>\n",
       "      <th>0</th>\n",
       "      <td>1</td>\n",
       "      <td>Maru</td>\n",
       "      <td>3</td>\n",
       "      <td>Scottish Fold</td>\n",
       "      <td>1</td>\n",
       "    </tr>\n",
       "  </tbody>\n",
       "</table>\n",
       "</div>"
      ],
      "text/plain": [
       "   id  name  age          breed  owner_id\n",
       "0   1  Maru    3  Scottish Fold         1"
      ]
     },
     "execution_count": 2,
     "metadata": {},
     "output_type": "execute_result"
    }
   ],
   "source": [
    "pd.read_sql(\"SELECT * FROM cats WHERE name = 'Maru';\", conn)"
   ]
  },
  {
   "cell_type": "markdown",
   "metadata": {},
   "source": [
    "Specifically, this was an example of the `=` conditional operator. It is similar to the `==` operator in Python.\n",
    "\n",
    "When you use this operator in a `WHERE` clause, SQL returns only the records that match that condition. It is essentially doing something like this:"
   ]
  },
  {
   "cell_type": "code",
   "execution_count": 3,
   "metadata": {},
   "outputs": [
    {
     "data": {
      "text/html": [
       "<div>\n",
       "<style scoped>\n",
       "    .dataframe tbody tr th:only-of-type {\n",
       "        vertical-align: middle;\n",
       "    }\n",
       "\n",
       "    .dataframe tbody tr th {\n",
       "        vertical-align: top;\n",
       "    }\n",
       "\n",
       "    .dataframe thead th {\n",
       "        text-align: right;\n",
       "    }\n",
       "</style>\n",
       "<table border=\"1\" class=\"dataframe\">\n",
       "  <thead>\n",
       "    <tr style=\"text-align: right;\">\n",
       "      <th></th>\n",
       "      <th>id</th>\n",
       "      <th>name</th>\n",
       "      <th>age</th>\n",
       "      <th>breed</th>\n",
       "      <th>owner_id</th>\n",
       "    </tr>\n",
       "  </thead>\n",
       "  <tbody>\n",
       "    <tr>\n",
       "      <th>0</th>\n",
       "      <td>1</td>\n",
       "      <td>Maru</td>\n",
       "      <td>3.0</td>\n",
       "      <td>Scottish Fold</td>\n",
       "      <td>1.0</td>\n",
       "    </tr>\n",
       "  </tbody>\n",
       "</table>\n",
       "</div>"
      ],
      "text/plain": [
       "   id  name  age          breed  owner_id\n",
       "0   1  Maru  3.0  Scottish Fold       1.0"
      ]
     },
     "execution_count": 3,
     "metadata": {},
     "output_type": "execute_result"
    }
   ],
   "source": [
    "# Selecting all of the records in the database\n",
    "result = pd.read_sql(\"SELECT * FROM cats;\", conn)\n",
    "# Create a list to store the records that match the query\n",
    "cats_named_maru = []\n",
    "# Loop over all of the cats\n",
    "for _, data in result.iterrows():\n",
    "    # Check if the name is \"Maru\"\n",
    "    if data[\"name\"] == \"Maru\":\n",
    "        # Add to list\n",
    "        cats_named_maru.append(data)\n",
    "\n",
    "# Display the result list as a DataFrame\n",
    "pd.DataFrame(cats_named_maru)"
   ]
  },
  {
   "cell_type": "markdown",
   "metadata": {},
   "source": [
    "Clearly the SQL query is a lot shorter!\n",
    "\n",
    "It also saves memory and improves performance to make sure that you only bring data into your Python code that you actually need, which a SQL `WHERE` clause can achieve."
   ]
  },
  {
   "cell_type": "markdown",
   "metadata": {},
   "source": [
    "### Conditional Operators in SQL\n",
    "\n",
    "That query worked for matching a specific value. However, what if you wanted to select the cats who are at least 5 years old? Or all of the cats that don't currently belong to an owner? Or all of the cats with names that start with \"M\"?\n",
    "\n",
    "We'll need some more advanced conditional operators for that.\n",
    "\n",
    "Some important ones to know are:\n",
    "\n",
    "* `!=` (\"not equal to\")\n",
    "  * Similar to `not` combined with `==` in Python\n",
    "* `>` (\"greater than\")\n",
    "  * Similar to `>` in Python\n",
    "* `>=` (\"greater than or equal to\")\n",
    "  * Similar to `>=` in Python\n",
    "* `<` (\"less than\")\n",
    "  * Similar to `<` in Python\n",
    "* `<=` (\"less than or equal to\")\n",
    "  * Similar to `<=` in Python\n",
    "* `AND`\n",
    "  * Similar to `and` in Python\n",
    "* `OR`\n",
    "  * Similar to `or` in Python\n",
    "* `BETWEEN`\n",
    "  * Similar to placing a value between two values with `<=` and `and` in Python, e.g. `(2 <= x) and (x <= 5)`\n",
    "* `IN`\n",
    "  * Similar to `in` in Python\n",
    "* `LIKE`\n",
    "  * Uses wildcards to find similar strings. No direct equivalent in Python, but similar to some Bash terminal commands."
   ]
  },
  {
   "cell_type": "markdown",
   "metadata": {},
   "source": [
    "### `WHERE` Code-Along\n",
    "\n",
    "In this exercise, you'll walk through executing a handful of common and handy SQL queries. We'll start by giving you an example of what this type of query looks like, then have you type a query specifically related to the `cats` table.\n",
    "\n",
    "#### `WHERE` with `>=`\n",
    "\n",
    "For the `=`, `!=`, `<`, `<=`, `>`, and `>=` operators, the query looks like:\n",
    "\n",
    "```sql\n",
    "SELECT column(s)\n",
    "  FROM table_name\n",
    " WHERE column_name operator value;\n",
    "```\n",
    "\n",
    "> Note: The example above is not valid SQL, it is a template for how the queries are constructed\n",
    "\n",
    "Type this SQL query between the quotes below to select all cats who are at least 5 years old:\n",
    "\n",
    "```sql\n",
    "SELECT *\n",
    "  FROM cats\n",
    " WHERE age >= 5;\n",
    "```"
   ]
  },
  {
   "cell_type": "code",
   "execution_count": null,
   "metadata": {},
   "outputs": [],
   "source": [
    "pd.read_sql(\"\"\"\n",
    "\n",
    "\"\"\", conn)"
   ]
  },
  {
   "cell_type": "markdown",
   "metadata": {},
   "source": [
    "This should return:\n",
    "\n",
    "|id  |name     |age    |breed              |owner_id   |\n",
    "|----|---------|-------|-------------------|-----------|\n",
    "|3   |Lil' Bub |5.0    |American Shorthair |None       |\n",
    "|4   |Moe      |10.0   |Tabby              |None       |"
   ]
  },
  {
   "cell_type": "markdown",
   "metadata": {},
   "source": [
    "#### `WHERE` with `BETWEEN`\n",
    "\n",
    "If you wanted to select all rows with values in a range, you _could_ do this by combining the `<=` and `AND` operators. However, since this is such a common task in SQL, there is a shorter and more efficient command specifically for this purpose, called `BETWEEN`.\n",
    "\n",
    "A typical query with `BETWEEN` looks like:\n",
    "\n",
    "```sql\n",
    "SELECT column_name(s)\n",
    "  FROM table_name\n",
    " WHERE column_name BETWEEN value1 AND value2;\n",
    "```\n",
    "\n",
    "> Note that `BETWEEN` is an **inclusive** range, so the returned values can match the boundary values (not like `range()` in Python)\n",
    "\n",
    "Let's say you need to select the names of all of the cats whose age is between 1 and 3. Type this SQL query between the quotes below to select all cats who are in this age range:\n",
    "\n",
    "```sql\n",
    "SELECT *\n",
    "  FROM cats\n",
    " WHERE age BETWEEN 1 AND 3;\n",
    "```"
   ]
  },
  {
   "cell_type": "code",
   "execution_count": null,
   "metadata": {},
   "outputs": [],
   "source": [
    "pd.read_sql(\"\"\"\n",
    "\n",
    "\"\"\", conn)"
   ]
  },
  {
   "cell_type": "markdown",
   "metadata": {},
   "source": [
    "This should return:\n",
    "\n",
    "|id  |name     |age    |breed              |owner_id   |\n",
    "|----|---------|-------|-------------------|-----------|\n",
    "|1   |Maru     |3.0    |Scottish Fold      |1.0        |\n",
    "|2   |Hana     |1.0    |Tabby              |1.0        |\n",
    "|5   |Patches  |2.0    |Calico             |NaN        |"
   ]
  },
  {
   "cell_type": "markdown",
   "metadata": {},
   "source": [
    "#### `WHERE` Column Is Not `NULL`\n",
    "\n",
    "`NULL` in SQL represents missing data. It is similar to `None` in Python or `NaN` in NumPy or pandas. However, we use the `IS` operator to check if something is `NULL`, not the `=` operator (or `IS NOT` instead of `!=`).\n",
    "\n",
    "To check if a value is `NULL` (or not), the query looks like:\n",
    "\n",
    "```sql\n",
    "SELECT column(s)\n",
    "  FROM table_name\n",
    " WHERE column_name IS (NOT) NULL;\n",
    "```\n",
    "\n",
    "> You might have noticed when we selected all rows of `cats`, some owner IDs were `NaN`, then in the above query they are `None` instead. This is a subtle difference where Python/pandas is converting SQL `NULL` values to `NaN` when there are numbers in other rows, and converting to `None` when all of the returned values are `NULL`. This is a subtle difference that you don't need to memorize; it is just highlighted to demonstrate that the operators we use in SQL are _similar_ to Python operators, but not quite the same.\n",
    "\n",
    "If we want to select all cats that don't currently belong to an owner, we want to select all cats where the `owner_id` is `NULL`.\n",
    "\n",
    "Type this SQL query between the quotes below to select all cats that don't currently belong to an owner:\n",
    "\n",
    "```sql\n",
    "SELECT *\n",
    "  FROM cats\n",
    " WHERE owner_id IS NULL;\n",
    "```"
   ]
  },
  {
   "cell_type": "code",
   "execution_count": null,
   "metadata": {},
   "outputs": [],
   "source": [
    "pd.read_sql(\"\"\"\n",
    "\n",
    "\"\"\", conn)"
   ]
  },
  {
   "cell_type": "markdown",
   "metadata": {},
   "source": [
    "This should return:\n",
    "\n",
    "|id  |name     |age    |breed              |owner_id   |\n",
    "|----|---------|-------|-------------------|-----------|\n",
    "|3   |Lil' Bub |5.0    |American Shorthair |None       |\n",
    "|4   |Moe      |10.0   |Tabby              |None       |\n",
    "|5   |Patches  |2.0    |Calico             |None       |\n",
    "|6   |None     |NaN    |Tabby              |None       |"
   ]
  },
  {
   "cell_type": "markdown",
   "metadata": {},
   "source": [
    "#### `WHERE` with `LIKE`\n",
    "\n",
    "The `LIKE` operator is very helpful for writing SQL queries with messy data. It uses _wildcards_ to specify which parts of the string query need to be an exact match and which parts can be variable.\n",
    "\n",
    "When using `LIKE`, a query looks like:\n",
    "\n",
    "```sql\n",
    "SELECT column(s)\n",
    "  FROM table_name\n",
    " WHERE column_name LIKE 'string_with_wildcards';\n",
    "```\n",
    "\n",
    "The most common wildcard you'll see is `%`. This is similar to the `*` wildcard in Bash or regex: it means zero or more characters with any value can be in that position.\n",
    "\n",
    "So for example, if we want all cats with names that start with \"M\", we could use a query containing `M%`. This means that we're looking for matches that start with one character \"M\" (or \"m\", since this is a case-insensitive query in SQLite) and then zero or more characters that can have any value.\n",
    "\n",
    "Type this SQL query between the quotes below to select all cats with names that start with \"M\" (or \"m\"):\n",
    "\n",
    "```sql\n",
    "SELECT *\n",
    "  FROM cats\n",
    " WHERE name LIKE 'M%';\n",
    "```"
   ]
  },
  {
   "cell_type": "code",
   "execution_count": null,
   "metadata": {},
   "outputs": [],
   "source": [
    "pd.read_sql(\"\"\"\n",
    "\n",
    "\"\"\", conn)"
   ]
  },
  {
   "cell_type": "markdown",
   "metadata": {},
   "source": [
    "This should return:\n",
    "\n",
    "|id  |name     |age    |breed              |owner_id   |\n",
    "|----|---------|-------|-------------------|-----------|\n",
    "|1   |Maru     |3.0    |Scottish Fold      |1.0        |\n",
    "|4   |Moe      |10.0   |Tabby              |NaN        |"
   ]
  },
  {
   "cell_type": "markdown",
   "metadata": {},
   "source": [
    "The other wildcard used for comparing strings is `_`, which means exactly one character, with any value.\n",
    "\n",
    "For example, if we wanted to select all cats with four-letter names where the second letter was \"a\", we could use `_a__`.\n",
    "\n",
    "Type this SQL query between the quotes below to select all cats with names where the second letter is \"a\" and the name is four letters long:\n",
    "\n",
    "```sql\n",
    "SELECT *\n",
    "  FROM cats\n",
    " WHERE name LIKE '_a__';\n",
    "```"
   ]
  },
  {
   "cell_type": "code",
   "execution_count": null,
   "metadata": {},
   "outputs": [],
   "source": [
    "pd.read_sql(\"\"\"\n",
    "\n",
    "\"\"\", conn)"
   ]
  },
  {
   "cell_type": "markdown",
   "metadata": {},
   "source": [
    "This should return:\n",
    "\n",
    "|id  |name     |age    |breed              |owner_id   |\n",
    "|----|---------|-------|-------------------|-----------|\n",
    "|1   |Maru     |3      |Scottish Fold      |1          |\n",
    "|2   |Hana     |1      |Tabby              |1          |"
   ]
  },
  {
   "cell_type": "markdown",
   "metadata": {},
   "source": [
    "These examples are a bit silly, but you can imagine how this technique would help to write queries between multiple datasets where the names don't quite match exactly! You can combine `%` and `_` in your string to narrow and expand your query results as needed."
   ]
  },
  {
   "cell_type": "markdown",
   "metadata": {},
   "source": [
    "#### `SELECT` with `COUNT`\n",
    "\n",
    "Now, let's talk about the SQL aggregate function `COUNT`.\n",
    "\n",
    "**SQL aggregate functions** are SQL statements that can get the average of a column's values, retrieve the minimum and maximum values from a column, sum values in a column, or count a number of records that meet certain conditions. You can learn more about these SQL aggregators [here](http://www.sqlclauses.com/sql+aggregate+functions) and [here](http://zetcode.com/db/sqlite/select/).\n",
    "\n",
    "For now, we'll just focus on `COUNT`, which counts the number of records that meet a certain condition. Here's a standard SQL query using `COUNT`:\n",
    "\n",
    "```sql\n",
    "SELECT COUNT(column_name)\n",
    "  FROM table_name\n",
    " WHERE conditional_statement;\n",
    "```\n",
    "\n",
    "Let's try it out and count the number of cats who have an `owner_id` of `1`. Type this SQL query between the quotes below:\n",
    "\n",
    "```sql\n",
    "SELECT COUNT(owner_id)\n",
    "  FROM cats\n",
    " WHERE owner_id = 1;\n",
    "```"
   ]
  },
  {
   "cell_type": "code",
   "execution_count": null,
   "metadata": {},
   "outputs": [],
   "source": [
    "pd.read_sql(\"\"\"\n",
    "\n",
    "\"\"\", conn)"
   ]
  },
  {
   "cell_type": "markdown",
   "metadata": {},
   "source": [
    "This should return:\n",
    "\n",
    "|  |COUNT(owner_id) |\n",
    "|--|----------------|\n",
    "|0 |2               |"
   ]
  },
  {
   "cell_type": "markdown",
   "metadata": {},
   "source": [
    "## Ordering and Limiting Results\n",
    "\n",
    "Sometimes you aren't most interested in results that match an _absolute_ value like \"greater than or equal to 5\" or \"matching 'Maru'\", but rather a _relative_ value like \"oldest\", \"youngest\", \"longest\", \"shortest\", etc. To do this, you first need to use `ORDER BY` to sort the values, then `LIMIT` to select only the top values based on your sorting.\n",
    "\n",
    "### `ORDER BY`\n",
    "\n",
    "By default, SQL query results will be returned in the order that they are in the database. If you want to specify the sort order of the returned rows, you use the `ORDER BY` clause.\n",
    "\n",
    "A standard query with `ORDER BY` looks like this:\n",
    "\n",
    "```sql\n",
    "SELECT column(s)\n",
    "  FROM table_name\n",
    " ORDER BY column_name (sort_order);\n",
    "```\n",
    "\n",
    "Let's select all cats and order them by age. Type this SQL query between the quotes below:\n",
    "\n",
    "```sql\n",
    "SELECT *\n",
    "  FROM cats\n",
    " ORDER BY age;\n",
    "```"
   ]
  },
  {
   "cell_type": "code",
   "execution_count": null,
   "metadata": {},
   "outputs": [],
   "source": [
    "pd.read_sql(\"\"\"\n",
    "\n",
    "\"\"\", conn)"
   ]
  },
  {
   "cell_type": "markdown",
   "metadata": {},
   "source": [
    "This should return:\n",
    "\n",
    "|id  |name     |age    |breed              |owner_id   |\n",
    "|----|---------|-------|-------------------|-----------|\n",
    "|6   |None     |NaN    |Tabby              |NaN        |\n",
    "|2   |Hana     |1.0    |Tabby              |1.0        |\n",
    "|5   |Patches  |2.0    |Calico             |NaN        |\n",
    "|1   |Maru     |3.0    |Scottish Fold      |1.0        |\n",
    "|3   |Lil' Bub |5.0    |American Shorthair |NaN        |\n",
    "|4   |Moe      |10.0   |Tabby              |NaN        |"
   ]
  },
  {
   "cell_type": "markdown",
   "metadata": {},
   "source": [
    "When using `ORDER BY`, the default is to order in ascending order. If you want to specify though, you can use `ASC` for \"ascending\" or `DESC` for \"descending.\" Let's try to select all of our cats and sort them by age in descending order. Type this SQL query between the quotes below:\n",
    "\n",
    "```sql\n",
    "SELECT *\n",
    "  FROM cats\n",
    " ORDER BY age DESC;\n",
    "```"
   ]
  },
  {
   "cell_type": "code",
   "execution_count": null,
   "metadata": {},
   "outputs": [],
   "source": [
    "pd.read_sql(\"\"\"\n",
    "\n",
    "\"\"\", conn)"
   ]
  },
  {
   "cell_type": "markdown",
   "metadata": {},
   "source": [
    "This should return:\n",
    "\n",
    "|id  |name     |age    |breed              |owner_id   |\n",
    "|----|---------|-------|-------------------|-----------|\n",
    "|4   |Moe      |10.0   |Tabby              |NaN        |\n",
    "|3   |Lil' Bub |5.0    |American Shorthair |NaN        |\n",
    "|1   |Maru     |3.0    |Scottish Fold      |1.0        |\n",
    "|5   |Patches  |2.0    |Calico             |NaN        |\n",
    "|2   |Hana     |1.0    |Tabby              |1.0        |\n",
    "|6   |None     |NaN    |Tabby              |NaN        |"
   ]
  },
  {
   "cell_type": "markdown",
   "metadata": {},
   "source": [
    "### `LIMIT`\n",
    "\n",
    "`LIMIT` is used to determine the number of records you want to return from a dataset. \n",
    "\n",
    "A standard query with `LIMIT` would be:\n",
    "\n",
    "```sql\n",
    "SELECT column(s)\n",
    "  FROM table_name\n",
    " LIMIT number;\n",
    "```\n",
    "\n",
    "Type this SQL query between the quotes below to select the first three rows of the `cats` table:\n",
    "\n",
    "```sql\n",
    "SELECT *\n",
    "  FROM cats\n",
    " LIMIT 3;\n",
    "```"
   ]
  },
  {
   "cell_type": "code",
   "execution_count": null,
   "metadata": {},
   "outputs": [],
   "source": [
    "pd.read_sql(\"\"\"\n",
    "\n",
    "\"\"\", conn)"
   ]
  },
  {
   "cell_type": "markdown",
   "metadata": {},
   "source": [
    "This should return:\n",
    "\n",
    "|id  |name     |age    |breed              |owner_id   |\n",
    "|----|---------|-------|-------------------|-----------|\n",
    "|1   |Maru     |3.0    |Scottish Fold      |1.0        |\n",
    "|2   |Hana     |1.0    |Tabby              |1.0        |\n",
    "|3   |Lil' Bub |5.0    |American Shorthair |NaN        |"
   ]
  },
  {
   "cell_type": "markdown",
   "metadata": {},
   "source": [
    "### `ORDER BY` with `LIMIT`\n",
    "\n",
    "What if you want the oldest cat? The three oldest cats? If you want to select extremes from a database table -- for example, the employee with the highest paycheck or the patient with the most recent appointment -- we can use `ORDER BY` in conjunction with `LIMIT`.\n",
    "\n",
    "Type this SQL query between the quotes below to select the oldest cat:\n",
    "\n",
    "```sql\n",
    "SELECT *\n",
    "  FROM cats\n",
    " ORDER BY age DESC\n",
    " LIMIT 1;\n",
    "```"
   ]
  },
  {
   "cell_type": "code",
   "execution_count": null,
   "metadata": {},
   "outputs": [],
   "source": [
    "pd.read_sql(\"\"\"\n",
    "\n",
    "\"\"\", conn)"
   ]
  },
  {
   "cell_type": "markdown",
   "metadata": {},
   "source": [
    "This should return:\n",
    "\n",
    "|id  |name     |age    |breed              |owner_id   |\n",
    "|----|---------|-------|-------------------|-----------|\n",
    "|4   |Moe      |10.0   |Tabby              |NaN        |"
   ]
  },
  {
   "cell_type": "markdown",
   "metadata": {},
   "source": [
    "This part of the statement: `SELECT * FROM cats ORDER BY age DESC` returns all of the cats in order from oldest to youngest. Setting a `LIMIT` of `1` returns just the first, i.e. oldest, cat on the list.\n",
    "\n",
    "We could also get the two oldest cats by changing the limit to 2:"
   ]
  },
  {
   "cell_type": "code",
   "execution_count": null,
   "metadata": {},
   "outputs": [],
   "source": [
    "pd.read_sql(\"\"\"\n",
    "SELECT *\n",
    "  FROM cats\n",
    " ORDER BY age DESC\n",
    " LIMIT 2;\n",
    "\"\"\", conn)"
   ]
  },
  {
   "cell_type": "markdown",
   "metadata": {},
   "source": [
    "## Note on `SELECT`\n",
    "\n",
    "We are now familiar with this syntax:\n",
    "\n",
    "```sql\n",
    "SELECT name\n",
    "  FROM cats;\n",
    "```\n",
    "\n",
    "However, you may not know that this can be written like this as well:\n",
    "\n",
    "```sql\n",
    "SELECT cats.name\n",
    "  FROM cats;\n",
    "```\n",
    "\n",
    "Both return the same data.\n",
    "\n",
    "SQLite allows us to explicitly state the `tableName.columnName` you want to select. This is particularly useful when you want data from two different tables.\n",
    "\n",
    "Imagine you have another table called `dogs` with a column containing all of the dog names:\n",
    "\n",
    "```sql\n",
    "CREATE TABLE dogs (\n",
    "\tid   INTEGER PRIMARY KEY,\n",
    "\tname TEXT\n",
    ");\n",
    "```\n",
    "\n",
    "```sql\n",
    "INSERT INTO dogs (name)\n",
    "VALUES (\"Clifford\");\n",
    "```\n",
    "\n",
    "\n",
    "If you want to get the names of all the dogs and cats, you can no longer run a query with just the column name.\n",
    "`SELECT name FROM cats,dogs;` will return `Error: ambiguous column name: name`.\n",
    "\n",
    "Instead, you must explicitly follow the `tableName.columnName` syntax.\n",
    "```sql\n",
    "SELECT cats.name, dogs.name\n",
    "  FROM cats, dogs;\n",
    "```\n",
    "\n",
    "You may see this in the future. Don't let it trip you up!"
   ]
  },
  {
   "cell_type": "code",
   "execution_count": 4,
   "metadata": {},
   "outputs": [],
   "source": [
    "conn.close()"
   ]
  },
  {
   "cell_type": "markdown",
   "metadata": {},
   "source": [
    "## Summary"
   ]
  },
  {
   "cell_type": "markdown",
   "metadata": {},
   "source": [
    "In this lesson, you expanded your SQL knowledge by learning how to limit the results of your query using `WHERE`, `ORDER BY`, and `LIMIT`. You also got a basic introduction to aggregate functions by seeing an example of `COUNT`, and dove deeper into some conditional operators including `BETWEEN` and `LIKE`."
   ]
  }
 ],
 "metadata": {
  "kernelspec": {
   "display_name": "Python (learn-env)",
   "language": "python",
   "name": "learn-env"
  },
  "language_info": {
   "codemirror_mode": {
    "name": "ipython",
    "version": 3
   },
   "file_extension": ".py",
   "mimetype": "text/x-python",
   "name": "python",
   "nbconvert_exporter": "python",
   "pygments_lexer": "ipython3",
   "version": "3.8.5"
  },
  "toc": {
   "base_numbering": 1,
   "nav_menu": {},
   "number_sections": true,
   "sideBar": true,
   "skip_h1_title": false,
   "title_cell": "Table of Contents",
   "title_sidebar": "Contents",
   "toc_cell": false,
   "toc_position": {},
   "toc_section_display": true,
   "toc_window_display": false
  }
 },
 "nbformat": 4,
 "nbformat_minor": 2
}
